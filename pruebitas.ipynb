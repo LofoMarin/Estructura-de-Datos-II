{
  "nbformat": 4,
  "nbformat_minor": 0,
  "metadata": {
    "colab": {
      "provenance": [],
      "authorship_tag": "ABX9TyP+pkNYdWrzsOQtKz6U3jl9",
      "include_colab_link": true
    },
    "kernelspec": {
      "name": "python3",
      "display_name": "Python 3"
    },
    "language_info": {
      "name": "python"
    }
  },
  "cells": [
    {
      "cell_type": "markdown",
      "metadata": {
        "id": "view-in-github",
        "colab_type": "text"
      },
      "source": [
        "<a href=\"https://colab.research.google.com/github/LofoMarin/Estructura-de-Datos-II/blob/main/pruebitas.ipynb\" target=\"_parent\"><img src=\"https://colab.research.google.com/assets/colab-badge.svg\" alt=\"Open In Colab\"/></a>"
      ]
    },
    {
      "cell_type": "code",
      "execution_count": null,
      "metadata": {
        "id": "tWkbiILxoDF1"
      },
      "outputs": [],
      "source": [
        "import pandas as pd\n",
        "pd.options.mode.chained_assignment = None  # default='warn'\n",
        "from geopy import distance\n",
        "from geopy.distance import geodesic as GD\n",
        "import requests\n",
        "import json\n",
        "import datetime\n",
        "import math\n",
        "import itertools\n",
        "import six\n",
        "import sys\n",
        "sys.modules['sklearn.externals.six'] = six\n",
        "import mlrose\n",
        "import numpy as np\n",
        "import csv"
      ]
    },
    {
      "cell_type": "code",
      "source": [
        "# load the dataframe\n",
        "df = pd.read_csv(\"vuelos.csv\")\n",
        "df.rename(columns = {'Unnamed: 5':'Origen'}, inplace = True)\n",
        "df.rename(columns = {'Unnamed: 7':'Ciudad Origen'}, inplace = True)\n",
        "df.rename(columns = {'Unnamed: 9':'Destino'}, inplace = True)\n",
        "df.rename(columns = {'Unnamed: 11':'Ciudad Destino'}, inplace = True)"
      ],
      "metadata": {
        "id": "C2To-6ufg6Yf"
      },
      "execution_count": null,
      "outputs": []
    },
    {
      "cell_type": "code",
      "source": [
        "# Organizing the .txt\n",
        "df_Aero = pd.read_csv(\"airports.dat.txt\")\n",
        "df_Aero.columns=['Airport ID', 'Name','City','Country','IATA','ICAO','Lat','Lon','Alt','Timezone','DST', 'Time_Zone','Type', 'Source']\n",
        "df_Aero.set_index('Airport ID')"
      ],
      "metadata": {
        "id": "g8bM9lnu8CYt"
      },
      "execution_count": null,
      "outputs": []
    },
    {
      "cell_type": "code",
      "source": [
        "# Filter airports from Colombia\n",
        "df_filter = df_Aero[df_Aero['Country'] == 'Colombia']\n",
        "df_filter"
      ],
      "metadata": {
        "id": "xAeQ1xh5_qbJ"
      },
      "execution_count": null,
      "outputs": []
    },
    {
      "cell_type": "code",
      "source": [
        "#calculate distances\n",
        "# - = (lat seleccionada, lon seleccionada)\n",
        "me = (10.9367638,-74.7734499)\n",
        "for row in df_filter.itertuples(index=True, name='Pandas'):\n",
        "    distance = (row.Lat, row.Lon)\n",
        "    print(\"The distance between me and distance is: \", GD(me, distance).km)\n",
        "    print(row.Lat, row.Lon)"
      ],
      "metadata": {
        "id": "W5n3ZlGsG6sm"
      },
      "execution_count": null,
      "outputs": []
    }
  ]
}